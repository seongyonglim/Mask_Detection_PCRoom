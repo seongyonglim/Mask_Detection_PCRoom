{
 "cells": [
  {
   "cell_type": "code",
   "execution_count": 2,
   "id": "uniform-pierce",
   "metadata": {
    "colab": {
     "base_uri": "https://localhost:8080/"
    },
    "execution": {
     "iopub.execute_input": "2021-05-08T02:07:08.046165Z",
     "iopub.status.busy": "2021-05-08T02:07:08.045367Z",
     "iopub.status.idle": "2021-05-08T02:07:08.051316Z",
     "shell.execute_reply": "2021-05-08T02:07:08.051962Z"
    },
    "executionInfo": {
     "elapsed": 599,
     "status": "ok",
     "timestamp": 1620712740080,
     "user": {
      "displayName": "HHK Mmk",
      "photoUrl": "https://lh3.googleusercontent.com/a-/AOh14Gj9u9VsU8JrrRLuhjNo1_RvBxXqIZIwiILnsBRR=s64",
      "userId": "07317510250984342733"
     },
     "user_tz": -540
    },
    "id": "uniform-pierce",
    "outputId": "933f58ba-5485-4e4e-f65c-a5dbbcf267b3",
    "papermill": {
     "duration": 0.042025,
     "end_time": "2021-05-08T02:07:08.052287",
     "exception": false,
     "start_time": "2021-05-08T02:07:08.010262",
     "status": "completed"
    },
    "tags": []
   },
   "outputs": [
    {
     "name": "stdout",
     "output_type": "stream",
     "text": [
      "Drive already mounted at /content/drive; to attempt to forcibly remount, call drive.mount(\"/content/drive\", force_remount=True).\n"
     ]
    }
   ],
   "source": [
    "\n",
    "import os\n",
    "import platform\n",
    "from IPython.display import clear_output\n",
    "from IPython.display import HTML\n",
    "from base64 import b64encode\n",
    "from tensorflow.keras.models import load_model\n",
    "from collections import deque\n",
    "import matplotlib.pyplot as plt\n",
    "import numpy as np\n",
    "import argparse\n",
    "import pickle\n",
    "import cv2\n",
    "import warnings\n",
    "warnings.filterwarnings(\"ignore\")\n",
    "from google.colab.patches import cv2_imshow\n",
    "from google.colab import drive\n",
    "drive.mount('/content/drive')\n",
    "\n",
    "# 테스트 영상을 해당 화면에서 출력하기 위한 함수\n",
    "def play(filename):\n",
    "    html = ''\n",
    "    video = open(filename,'rb').read()\n",
    "    src = 'data:video/mp4;base64,' + b64encode(video).decode()\n",
    "    html += '<video width=640 muted controls autoplay loop><source src=\"%s\" type=\"video/mp4\"></video>' % src \n",
    "    return HTML(html)"
   ]
  },
  {
   "cell_type": "markdown",
   "id": "prompt-heaven",
   "metadata": {
    "id": "prompt-heaven",
    "papermill": {
     "duration": 3.740652,
     "end_time": "2021-05-08T02:30:05.041672",
     "exception": false,
     "start_time": "2021-05-08T02:30:01.301020",
     "status": "completed"
    },
    "tags": []
   },
   "source": [
    "## **Testing**"
   ]
  },
  {
   "cell_type": "code",
   "execution_count": 15,
   "id": "living-tiger",
   "metadata": {
    "executionInfo": {
     "elapsed": 825,
     "status": "ok",
     "timestamp": 1620713364029,
     "user": {
      "displayName": "HHK Mmk",
      "photoUrl": "https://lh3.googleusercontent.com/a-/AOh14Gj9u9VsU8JrrRLuhjNo1_RvBxXqIZIwiILnsBRR=s64",
      "userId": "07317510250984342733"
     },
     "user_tz": -540
    },
    "id": "living-tiger",
    "papermill": {
     "duration": 4.122803,
     "end_time": "2021-05-08T02:32:18.905887",
     "exception": false,
     "start_time": "2021-05-08T02:32:14.783084",
     "status": "completed"
    },
    "tags": []
   },
   "outputs": [],
   "source": [
    "# 테스트 진행에 필요한 파일들의 경로를 설정함\n",
    "args = { \n",
    "\n",
    "    \"model\": \"/content/drive/My Drive/km/model/model_v1.h5\",\n",
    "    \"label-bin\": \"/content/drive/My Drive/km/model/lb.pickle\",\n",
    "    \"input\": \"/content/drive/My Drive/km/example_clips/lifting.mp4\",\n",
    "    \"size\" : 128,\n",
    "    \"output\" : \"/content/drive/My Drive/km/output/V_2.avi\"   \n",
    "}"
   ]
  },
  {
   "cell_type": "markdown",
   "id": "instructional-animation",
   "metadata": {
    "id": "instructional-animation",
    "papermill": {
     "duration": 4.15926,
     "end_time": "2021-05-08T02:30:20.569749",
     "exception": false,
     "start_time": "2021-05-08T02:30:16.410489",
     "status": "completed"
    },
    "tags": []
   },
   "source": [
    "## **Input** : 입력할 테스트 영상 확인"
   ]
  },
  {
   "cell_type": "code",
   "execution_count": 16,
   "id": "natural-convertible",
   "metadata": {
    "colab": {
     "base_uri": "https://localhost:8080/",
     "height": 423,
     "output_embedded_package_id": "1ASpoChqkuoe8v2Y4amFw4XaERDba5oV2"
    },
    "execution": {
     "iopub.execute_input": "2021-05-08T02:30:28.474810Z",
     "iopub.status.busy": "2021-05-08T02:30:28.473990Z",
     "iopub.status.idle": "2021-05-08T02:30:28.557317Z",
     "shell.execute_reply": "2021-05-08T02:30:28.557834Z"
    },
    "executionInfo": {
     "elapsed": 5531,
     "status": "ok",
     "timestamp": 1620713371182,
     "user": {
      "displayName": "HHK Mmk",
      "photoUrl": "https://lh3.googleusercontent.com/a-/AOh14Gj9u9VsU8JrrRLuhjNo1_RvBxXqIZIwiILnsBRR=s64",
      "userId": "07317510250984342733"
     },
     "user_tz": -540
    },
    "id": "natural-convertible",
    "outputId": "7e62106a-8ff4-46b9-baf9-dc15adf4c9c4",
    "papermill": {
     "duration": 3.97684,
     "end_time": "2021-05-08T02:30:28.557990",
     "exception": false,
     "start_time": "2021-05-08T02:30:24.581150",
     "status": "completed"
    },
    "tags": []
   },
   "outputs": [
    {
     "data": {
      "text/plain": [
       "Output hidden; open in https://colab.research.google.com to view."
      ]
     },
     "metadata": {},
     "output_type": "display_data"
    }
   ],
   "source": [
    "mask=args['input'] \n",
    "play(mask)"
   ]
  },
  {
   "cell_type": "markdown",
   "id": "civilian-cartridge",
   "metadata": {
    "id": "civilian-cartridge",
    "papermill": {
     "duration": 3.722869,
     "end_time": "2021-05-08T02:30:36.023054",
     "exception": false,
     "start_time": "2021-05-08T02:30:32.300185",
     "status": "completed"
    },
    "tags": []
   },
   "source": [
    "## **Output**"
   ]
  },
  {
   "cell_type": "markdown",
   "id": "inB6Qn6s-7wd",
   "metadata": {
    "id": "inB6Qn6s-7wd"
   },
   "source": [
    "## 1. 프레임 별로 어떻게 모델이 예측 결과를 나타내는 지 확인"
   ]
  },
  {
   "cell_type": "code",
   "execution_count": 17,
   "id": "original-envelope",
   "metadata": {
    "colab": {
     "base_uri": "https://localhost:8080/",
     "height": 1000,
     "output_embedded_package_id": "1XfHGlZKAAd-sw_F9AaSHWMMiLhwFzYw-"
    },
    "executionInfo": {
     "elapsed": 23975,
     "status": "error",
     "timestamp": 1620713397942,
     "user": {
      "displayName": "HHK Mmk",
      "photoUrl": "https://lh3.googleusercontent.com/a-/AOh14Gj9u9VsU8JrrRLuhjNo1_RvBxXqIZIwiILnsBRR=s64",
      "userId": "07317510250984342733"
     },
     "user_tz": -540
    },
    "id": "original-envelope",
    "outputId": "4f73ffb8-9fc0-425b-edfb-1ef60435fd08",
    "papermill": {
     "duration": 3.799456,
     "end_time": "2021-05-08T02:32:26.576969",
     "exception": false,
     "start_time": "2021-05-08T02:32:22.777513",
     "status": "completed"
    },
    "tags": []
   },
   "outputs": [
    {
     "data": {
      "text/plain": [
       "Output hidden; open in https://colab.research.google.com to view."
      ]
     },
     "metadata": {},
     "output_type": "display_data"
    }
   ],
   "source": [
    "vs = cv2.VideoCapture(mask)\n",
    "writer = None\n",
    "(W, H) = (None, None)\n",
    "\n",
    "model = load_model(args['model'])\n",
    "lb = pickle.loads(open(args['label-bin'], \"rb\").read())\n",
    "count = 0  \n",
    "\n",
    "\n",
    "Q=[]\n",
    "while True:\n",
    "\t# 테스트 영상으로 부터 한 개의 프레임 불러오기\n",
    "\t(grabbed, frame) = vs.read()\n",
    "\n",
    "\tif not grabbed:\n",
    "\t\tbreak\n",
    "\tif W is None or H is None:\n",
    "\t\t(H, W) = frame.shape[:2]\n",
    "  # 불러온 해당 프레임의 사이즈를 조정하고, 스케일링 진행\n",
    "\tframe = cv2.cvtColor(frame, cv2.COLOR_BGR2RGB)\n",
    "\toutput = cv2.resize(frame, (512, 360)).copy()\n",
    "\tframe = cv2.resize(frame, (128, 128)).astype(\"float32\")\n",
    "\tframe = frame.reshape(128, 128, 3) / 255\n",
    "\t# 기존에 학습한 우리의 모델에 입력하여 마스크 착용 여부의 예측값을 저장\n",
    "\tpreds = model.predict(np.expand_dims(frame, axis=0))[0]\n",
    "\tQ.append(preds)\n",
    "\tresults = np.array(Q).mean(axis=0)\n",
    "\ti = 1\n",
    "\tlabel = lb.classes_[i]\n",
    "\t\n",
    "\n",
    "\t# 해당 프레임마다 모델의 예측 결과를 텍스트로 채워주기\n",
    "\ttext_color = (0, 255, 0) # default : green\n",
    "\n",
    "\tif preds[0] > 0.50 : # mask prob\n",
    "\t\ttext_color = (0, 0, 255) # red\n",
    "\t\tlabel = 'wearing a mask'\n",
    "\telse:\n",
    "\t\tlabel = 'Not wearing a mask'\n",
    "\n",
    "\ttext = \"State : {:8} ({:3.2f}%)\".format(label,preds[0]*100)\n",
    "\tFONT = cv2.FONT_HERSHEY_SIMPLEX \n",
    "\n",
    "\tcv2.putText(output, text, (35, 50), FONT,1.25, text_color, 3) \n",
    "\toutput = cv2.rectangle(output, (35, 80), (35+int(preds[0])*5,80+20), text_color,-1)\n",
    "\n",
    "\tif writer is None:\n",
    "\t\tfourcc = cv2.VideoWriter_fourcc(*\"MJPG\")\n",
    "\t\twriter = cv2.VideoWriter(args[\"output\"], fourcc, 30,(W, H), True)\n",
    "\twriter.write(output)\n",
    "\n",
    "\t# 프레임 이미지를 출력하기\n",
    "\tcv2_imshow(output)\n",
    "\tkey = cv2.waitKey(1) & 0xFF\n",
    "\tif key == ord(\"q\"):\n",
    "\t\tbreak\n",
    "\n",
    "print(\"[INFO] cleaning up...\")\n",
    "writer.release()"
   ]
  },
  {
   "cell_type": "markdown",
   "id": "odfyoY2a_BUx",
   "metadata": {
    "id": "odfyoY2a_BUx"
   },
   "source": [
    "## 2. 최종 해당 영상에 대해 착용 여부 결과 확인"
   ]
  },
  {
   "cell_type": "code",
   "execution_count": 18,
   "id": "persistent-characterization",
   "metadata": {
    "executionInfo": {
     "elapsed": 21350,
     "status": "ok",
     "timestamp": 1620713423146,
     "user": {
      "displayName": "HHK Mmk",
      "photoUrl": "https://lh3.googleusercontent.com/a-/AOh14Gj9u9VsU8JrrRLuhjNo1_RvBxXqIZIwiILnsBRR=s64",
      "userId": "07317510250984342733"
     },
     "user_tz": -540
    },
    "id": "persistent-characterization",
    "papermill": {
     "duration": 3.778331,
     "end_time": "2021-05-08T02:32:34.967070",
     "exception": false,
     "start_time": "2021-05-08T02:32:31.188739",
     "status": "completed"
    },
    "tags": []
   },
   "outputs": [],
   "source": [
    "# 테스트할 영상을 프레임 단위로 불러온 후 예측을 진행한다.\n",
    "vs = cv2.VideoCapture(Violence)\n",
    "writer = None\n",
    "(W, H) = (None, None)\n",
    "\n",
    "model = load_model(args['model'])\n",
    "lb = pickle.loads(open(args['label-bin'], \"rb\").read())\n",
    "count = 0 \n",
    "\n",
    "while True:\n",
    "    (grabbed, frame) = vs.read()\n",
    "\n",
    "    if not grabbed:\n",
    "        break\n",
    "\n",
    "    if W is None or H is None:\n",
    "        (H, W) = frame.shape[:2]\n",
    "\n",
    "    # 영상의 하나의 프레임을 불러온 후 전처리를 진행한다.\n",
    "\n",
    "    frame = cv2.cvtColor(frame, cv2.COLOR_BGR2RGB)\n",
    "    output = cv2.resize(frame, (512, 360)).copy()\n",
    "    frame = cv2.resize(frame, (128, 128)).astype(\"float32\")\n",
    "    frame = frame.reshape(128, 128, 3) / 255\n",
    "    # 예측을 진행하고 리스트에 저장\n",
    "    preds = model.predict(np.expand_dims(frame, axis=0))[0]\n",
    "    Q.append(preds)\n",
    "\n",
    "    key = cv2.waitKey(1) & 0xFF\n",
    "    if key == ord(\"q\"):\n",
    "        break"
   ]
  },
  {
   "cell_type": "code",
   "execution_count": 1,
   "id": "UnqV83JxA-HD",
   "metadata": {
    "colab": {
     "base_uri": "https://localhost:8080/"
    },
    "collapsed": true,
    "executionInfo": {
     "elapsed": 597,
     "status": "ok",
     "timestamp": 1620713478498,
     "user": {
      "displayName": "HHK Mmk",
      "photoUrl": "https://lh3.googleusercontent.com/a-/AOh14Gj9u9VsU8JrrRLuhjNo1_RvBxXqIZIwiILnsBRR=s64",
      "userId": "07317510250984342733"
     },
     "user_tz": -540
    },
    "id": "UnqV83JxA-HD",
    "outputId": "7c8ce42d-438f-4fde-ffb8-5991c0e090a7"
   },
   "outputs": [
    {
     "ename": "NameError",
     "evalue": "name 'np' is not defined",
     "output_type": "error",
     "traceback": [
      "\u001b[0;31m---------------------------------------------------------------------------\u001b[0m",
      "\u001b[0;31mNameError\u001b[0m                                 Traceback (most recent call last)",
      "\u001b[0;32m<ipython-input-1-619dfbc6afd0>\u001b[0m in \u001b[0;36m<module>\u001b[0;34m\u001b[0m\n\u001b[1;32m      1\u001b[0m \u001b[0;31m# 프레임 단위로 예측된 결과들을 취합하여, 최종 착용 여부를 판단한다.\u001b[0m\u001b[0;34m\u001b[0m\u001b[0;34m\u001b[0m\u001b[0;34m\u001b[0m\u001b[0m\n\u001b[0;32m----> 2\u001b[0;31m \u001b[0mresults\u001b[0m \u001b[0;34m=\u001b[0m \u001b[0mnp\u001b[0m\u001b[0;34m.\u001b[0m\u001b[0marray\u001b[0m\u001b[0;34m(\u001b[0m\u001b[0mQ\u001b[0m\u001b[0;34m)\u001b[0m\u001b[0;34m.\u001b[0m\u001b[0mmean\u001b[0m\u001b[0;34m(\u001b[0m\u001b[0maxis\u001b[0m\u001b[0;34m=\u001b[0m\u001b[0;36m0\u001b[0m\u001b[0;34m)\u001b[0m\u001b[0;34m\u001b[0m\u001b[0;34m\u001b[0m\u001b[0m\n\u001b[0m\u001b[1;32m      3\u001b[0m \u001b[0;34m\u001b[0m\u001b[0m\n\u001b[1;32m      4\u001b[0m \u001b[0mprob\u001b[0m \u001b[0;34m=\u001b[0m \u001b[0mround\u001b[0m\u001b[0;34m(\u001b[0m\u001b[0mresults\u001b[0m\u001b[0;34m[\u001b[0m\u001b[0;36m0\u001b[0m\u001b[0;34m]\u001b[0m\u001b[0;34m*\u001b[0m\u001b[0;36m100\u001b[0m\u001b[0;34m,\u001b[0m\u001b[0;36m2\u001b[0m\u001b[0;34m)\u001b[0m\u001b[0;34m\u001b[0m\u001b[0;34m\u001b[0m\u001b[0m\n\u001b[1;32m      5\u001b[0m \u001b[0;32mif\u001b[0m \u001b[0mprob\u001b[0m \u001b[0;34m>=\u001b[0m \u001b[0;36m50\u001b[0m\u001b[0;34m:\u001b[0m\u001b[0;34m\u001b[0m\u001b[0;34m\u001b[0m\u001b[0m\n",
      "\u001b[0;31mNameError\u001b[0m: name 'np' is not defined"
     ]
    }
   ],
   "source": [
    "# 프레임 단위로 예측된 결과들을 취합하여, 최종 착용 여부를 판단한다.\n",
    "results = np.array(Q).mean(axis=0)\n",
    "\n",
    "prob = round(results[0]*100,2)\n",
    "if prob >= 50:\n",
    "    label = 'wearing a mask'\n",
    "else:\n",
    "    label = 'Not wearing a mask' \n",
    "\n",
    "print('해당 영상에 대한 모델의 예측 결과 : \\n')\n",
    "print('해당 영상은 {} 클래스에 속합니다.'.format(label))"
   ]
  },
  {
   "cell_type": "code",
   "execution_count": null,
   "id": "6Acocrs7Cds-",
   "metadata": {
    "id": "6Acocrs7Cds-"
   },
   "outputs": [],
   "source": []
  }
 ],
 "metadata": {
  "colab": {
   "collapsed_sections": [],
   "name": "violence_classification_v1.ipynb",
   "provenance": []
  },
  "kernelspec": {
   "display_name": "Python 3",
   "language": "python",
   "name": "python3"
  },
  "language_info": {
   "codemirror_mode": {
    "name": "ipython",
    "version": 3
   },
   "file_extension": ".py",
   "mimetype": "text/x-python",
   "name": "python",
   "nbconvert_exporter": "python",
   "pygments_lexer": "ipython3",
   "version": "3.8.8"
  },
  "papermill": {
   "default_parameters": {},
   "duration": 1541.952186,
   "end_time": "2021-05-08T02:32:43.321079",
   "environment_variables": {},
   "exception": null,
   "input_path": "__notebook__.ipynb",
   "output_path": "__notebook__.ipynb",
   "parameters": {},
   "start_time": "2021-05-08T02:07:01.368893",
   "version": "2.3.3"
  }
 },
 "nbformat": 4,
 "nbformat_minor": 5
}
